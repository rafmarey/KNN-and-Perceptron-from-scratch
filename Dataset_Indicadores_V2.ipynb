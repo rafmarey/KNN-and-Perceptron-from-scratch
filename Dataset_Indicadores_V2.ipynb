{
  "nbformat": 4,
  "nbformat_minor": 0,
  "metadata": {
    "colab": {
      "provenance": []
    },
    "kernelspec": {
      "name": "python3",
      "display_name": "Python 3"
    },
    "language_info": {
      "name": "python"
    }
  },
  "cells": [
    {
      "cell_type": "code",
      "execution_count": 160,
      "metadata": {
        "id": "gPLQg2N5_oYb"
      },
      "outputs": [],
      "source": [
        "import pandas as pd\n",
        "import numpy as np"
      ]
    },
    {
      "cell_type": "code",
      "source": [
        "#load dataset\n",
        "path = \"/content/Indicadores_municipales_sabana_DA.csv\"\n",
        "df = pd.read_csv(path, encoding='latin-1')"
      ],
      "metadata": {
        "id": "u2dx8UOs_tQH"
      },
      "execution_count": 161,
      "outputs": []
    },
    {
      "cell_type": "code",
      "source": [
        "#drop empty collumns\n",
        "df = df.dropna(axis=1, how='all')\n",
        "\n",
        "#fill all the empty cells of the dataset with the mean of its column\n",
        "df.fillna(df.mean(), inplace=True)\n",
        "\n",
        "#if there is still empty cells, because of the categorical values, it will fill them with the mode of the collumn\n",
        "for column in df.columns:\n",
        "    if df[column].isnull().sum() > 0:\n",
        "        moda = df[column].mode()[0]\n",
        "        df[column].fillna(moda, inplace=True)"
      ],
      "metadata": {
        "id": "jpUBgaGTAhOt",
        "colab": {
          "base_uri": "https://localhost:8080/"
        },
        "outputId": "e3eb893d-2de5-4328-f602-c36f79807e0f"
      },
      "execution_count": 162,
      "outputs": [
        {
          "output_type": "stream",
          "name": "stderr",
          "text": [
            "<ipython-input-162-340507fa06fb>:5: FutureWarning: The default value of numeric_only in DataFrame.mean is deprecated. In a future version, it will default to False. In addition, specifying 'numeric_only=None' is deprecated. Select only valid columns or specify the value of numeric_only to silence this warning.\n",
            "  df.fillna(df.mean(), inplace=True)\n"
          ]
        }
      ]
    },
    {
      "cell_type": "code",
      "source": [
        "#count the number of empty cells\n",
        "empty_cell = df.isnull().sum().sum()\n",
        "print(f\"Empty cells: {empty_cell}\")"
      ],
      "metadata": {
        "colab": {
          "base_uri": "https://localhost:8080/"
        },
        "id": "5JhmyCQHAMrh",
        "outputId": "525acb40-44d7-4b5a-8253-0e4c33ae132c"
      },
      "execution_count": 163,
      "outputs": [
        {
          "output_type": "stream",
          "name": "stdout",
          "text": [
            "Empty cells: 0\n"
          ]
        }
      ]
    },
    {
      "cell_type": "code",
      "source": [
        "#delete the unnecessary columns\n",
        "columns_to_delete = ['ent', 'nom_ent', 'mun', 'clave_mun','nom_mun']\n",
        "df = df.drop(columns=columns_to_delete)\n",
        "\n",
        "#change the categorical values to numerical\n",
        "mapping = {'Muy bajo': 1, 'Bajo': 2, 'Medio': 3, 'Alto': 4, 'Muy alto': 5}\n",
        "columns_to_convert = ['gdo_rezsoc00', 'gdo_rezsoc05', 'gdo_rezsoc10']  #columns where the changes will be applied\n",
        "\n",
        "for columna in columns_to_convert:\n",
        "    df[columna] = df[columna].replace(mapping)"
      ],
      "metadata": {
        "id": "qWS1btXqB1ne"
      },
      "execution_count": 164,
      "outputs": []
    },
    {
      "cell_type": "code",
      "source": [
        "#see the changes\n",
        "cathegorical_column = ['gdo_rezsoc00', 'gdo_rezsoc05', 'gdo_rezsoc10']\n",
        "\n",
        "print(df[cathegorical_column].tail())"
      ],
      "metadata": {
        "colab": {
          "base_uri": "https://localhost:8080/"
        },
        "id": "NDJZvN1NFIxh",
        "outputId": "9b5b84d8-bad0-4c5d-a07e-ef8dc924eecc"
      },
      "execution_count": 165,
      "outputs": [
        {
          "output_type": "stream",
          "name": "stdout",
          "text": [
            "      gdo_rezsoc00  gdo_rezsoc05  gdo_rezsoc10\n",
            "2451             3             2             2\n",
            "2452             1             1             1\n",
            "2453             1             1             1\n",
            "2454             2             2             1\n",
            "2455             4             2             1\n"
          ]
        }
      ]
    },
    {
      "cell_type": "code",
      "source": [
        "#move the label column to the end of the dataframe\n",
        "labels_y = 'gdo_rezsoc10'\n",
        "df = df[[col for col in df if col != labels_y]\n",
        "        + [labels_y]]\n",
        "\n",
        "#print the dataframe\n",
        "df"
      ],
      "metadata": {
        "id": "qiKflEGsGSsO",
        "colab": {
          "base_uri": "https://localhost:8080/",
          "height": 443
        },
        "outputId": "2185317b-ca57-4ee3-d851-8246333c85af"
      },
      "execution_count": 166,
      "outputs": [
        {
          "output_type": "execute_result",
          "data": {
            "text/plain": [
              "      pobtot_ajustada    pobreza  pobreza_e  pobreza_m    vul_car   vul_ing  \\\n",
              "0              794304  30.531104   2.264478  28.266627  27.983320  8.419106   \n",
              "1               48592  67.111172   8.040704  59.070468  22.439389  5.557604   \n",
              "2               53104  61.360527   7.241238  54.119289  29.428583  2.921336   \n",
              "3               14101  52.800458   4.769001  48.031458  27.128568  7.709276   \n",
              "4              101379  45.338512   6.084037  39.254475  26.262912  8.279864   \n",
              "...               ...        ...        ...        ...        ...       ...   \n",
              "2451            21016  74.848837  12.301183  62.547654  19.229856  3.177689   \n",
              "2452            27385  65.450191  10.203506  55.246687  23.623556  5.007426   \n",
              "2453           117528  29.541959   3.535624  26.006335  16.644262  8.828019   \n",
              "2454            20456  78.374962  14.607016  63.767946  13.750759  4.440331   \n",
              "2455             2772  62.204207  10.102023  52.102184  27.489635  2.308246   \n",
              "\n",
              "           npnv  ic_rezedu  ic_asalud  ic_segsoc  ...  pobreza_cap_90  \\\n",
              "0     33.066469  14.970553  24.034493  41.799885  ...            20.4   \n",
              "1      4.891835  21.222712  15.514032  78.003570  ...            39.9   \n",
              "2      6.289554  27.361207  20.812551  80.051980  ...            39.5   \n",
              "3     12.361698  20.889023  14.071657  65.831374  ...            35.2   \n",
              "4     20.118712  20.578144  16.567818  52.616992  ...            36.6   \n",
              "...         ...        ...        ...        ...  ...             ...   \n",
              "2451   2.743618  27.350040  36.056322  76.550988  ...            51.8   \n",
              "2452   5.918827  29.914879  53.313420  74.542926  ...            34.2   \n",
              "2453  44.985759  11.936088  18.316528  32.666426  ...            15.7   \n",
              "2454   3.433948  26.649950  11.769479  83.235286  ...            36.2   \n",
              "2455   7.997912  28.429677  44.800160  76.211864  ...            37.6   \n",
              "\n",
              "      pobreza_cap_00  pobreza_cap_10  pobreza_patrim_90  pobreza_patrim_00  \\\n",
              "0               12.7       18.474600               43.4               33.7   \n",
              "1               29.0       30.980801               64.2               48.9   \n",
              "2               33.1       28.259199               63.9               57.9   \n",
              "3               21.0       22.386101               59.7               40.1   \n",
              "4               22.6       22.139999               60.6               42.2   \n",
              "...              ...             ...                ...                ...   \n",
              "2451            54.8       41.368999               73.5               70.9   \n",
              "2452            25.9       20.563601               57.8               44.1   \n",
              "2453            20.7       12.115300               36.6               41.8   \n",
              "2454            36.4       30.037100               60.5               54.7   \n",
              "2455            44.8       26.998899               61.2               63.9   \n",
              "\n",
              "      pobreza_patrim_10  gini_90  gini_00   gini_10  gdo_rezsoc10  \n",
              "0             41.900398    0.473    0.425  0.422628             1  \n",
              "1             59.175800    0.379    0.533  0.343879             1  \n",
              "2             56.504902    0.414    0.465  0.386781             1  \n",
              "3             51.164501    0.392    0.541  0.344984             1  \n",
              "4             45.703899    0.391    0.469  0.458083             1  \n",
              "...                 ...      ...      ...       ...           ...  \n",
              "2451          70.859596    0.403    0.589  0.342037             2  \n",
              "2452          46.659199    0.422    0.463  0.362527             1  \n",
              "2453          32.302700    0.528    0.498  0.436339             1  \n",
              "2454          57.394501    0.380    0.483  0.365307             1  \n",
              "2455          54.116299    0.431    0.500  0.385067             1  \n",
              "\n",
              "[2456 rows x 134 columns]"
            ],
            "text/html": [
              "\n",
              "  <div id=\"df-d922e075-7df3-4bb3-81eb-101d01bc050f\" class=\"colab-df-container\">\n",
              "    <div>\n",
              "<style scoped>\n",
              "    .dataframe tbody tr th:only-of-type {\n",
              "        vertical-align: middle;\n",
              "    }\n",
              "\n",
              "    .dataframe tbody tr th {\n",
              "        vertical-align: top;\n",
              "    }\n",
              "\n",
              "    .dataframe thead th {\n",
              "        text-align: right;\n",
              "    }\n",
              "</style>\n",
              "<table border=\"1\" class=\"dataframe\">\n",
              "  <thead>\n",
              "    <tr style=\"text-align: right;\">\n",
              "      <th></th>\n",
              "      <th>pobtot_ajustada</th>\n",
              "      <th>pobreza</th>\n",
              "      <th>pobreza_e</th>\n",
              "      <th>pobreza_m</th>\n",
              "      <th>vul_car</th>\n",
              "      <th>vul_ing</th>\n",
              "      <th>npnv</th>\n",
              "      <th>ic_rezedu</th>\n",
              "      <th>ic_asalud</th>\n",
              "      <th>ic_segsoc</th>\n",
              "      <th>...</th>\n",
              "      <th>pobreza_cap_90</th>\n",
              "      <th>pobreza_cap_00</th>\n",
              "      <th>pobreza_cap_10</th>\n",
              "      <th>pobreza_patrim_90</th>\n",
              "      <th>pobreza_patrim_00</th>\n",
              "      <th>pobreza_patrim_10</th>\n",
              "      <th>gini_90</th>\n",
              "      <th>gini_00</th>\n",
              "      <th>gini_10</th>\n",
              "      <th>gdo_rezsoc10</th>\n",
              "    </tr>\n",
              "  </thead>\n",
              "  <tbody>\n",
              "    <tr>\n",
              "      <th>0</th>\n",
              "      <td>794304</td>\n",
              "      <td>30.531104</td>\n",
              "      <td>2.264478</td>\n",
              "      <td>28.266627</td>\n",
              "      <td>27.983320</td>\n",
              "      <td>8.419106</td>\n",
              "      <td>33.066469</td>\n",
              "      <td>14.970553</td>\n",
              "      <td>24.034493</td>\n",
              "      <td>41.799885</td>\n",
              "      <td>...</td>\n",
              "      <td>20.4</td>\n",
              "      <td>12.7</td>\n",
              "      <td>18.474600</td>\n",
              "      <td>43.4</td>\n",
              "      <td>33.7</td>\n",
              "      <td>41.900398</td>\n",
              "      <td>0.473</td>\n",
              "      <td>0.425</td>\n",
              "      <td>0.422628</td>\n",
              "      <td>1</td>\n",
              "    </tr>\n",
              "    <tr>\n",
              "      <th>1</th>\n",
              "      <td>48592</td>\n",
              "      <td>67.111172</td>\n",
              "      <td>8.040704</td>\n",
              "      <td>59.070468</td>\n",
              "      <td>22.439389</td>\n",
              "      <td>5.557604</td>\n",
              "      <td>4.891835</td>\n",
              "      <td>21.222712</td>\n",
              "      <td>15.514032</td>\n",
              "      <td>78.003570</td>\n",
              "      <td>...</td>\n",
              "      <td>39.9</td>\n",
              "      <td>29.0</td>\n",
              "      <td>30.980801</td>\n",
              "      <td>64.2</td>\n",
              "      <td>48.9</td>\n",
              "      <td>59.175800</td>\n",
              "      <td>0.379</td>\n",
              "      <td>0.533</td>\n",
              "      <td>0.343879</td>\n",
              "      <td>1</td>\n",
              "    </tr>\n",
              "    <tr>\n",
              "      <th>2</th>\n",
              "      <td>53104</td>\n",
              "      <td>61.360527</td>\n",
              "      <td>7.241238</td>\n",
              "      <td>54.119289</td>\n",
              "      <td>29.428583</td>\n",
              "      <td>2.921336</td>\n",
              "      <td>6.289554</td>\n",
              "      <td>27.361207</td>\n",
              "      <td>20.812551</td>\n",
              "      <td>80.051980</td>\n",
              "      <td>...</td>\n",
              "      <td>39.5</td>\n",
              "      <td>33.1</td>\n",
              "      <td>28.259199</td>\n",
              "      <td>63.9</td>\n",
              "      <td>57.9</td>\n",
              "      <td>56.504902</td>\n",
              "      <td>0.414</td>\n",
              "      <td>0.465</td>\n",
              "      <td>0.386781</td>\n",
              "      <td>1</td>\n",
              "    </tr>\n",
              "    <tr>\n",
              "      <th>3</th>\n",
              "      <td>14101</td>\n",
              "      <td>52.800458</td>\n",
              "      <td>4.769001</td>\n",
              "      <td>48.031458</td>\n",
              "      <td>27.128568</td>\n",
              "      <td>7.709276</td>\n",
              "      <td>12.361698</td>\n",
              "      <td>20.889023</td>\n",
              "      <td>14.071657</td>\n",
              "      <td>65.831374</td>\n",
              "      <td>...</td>\n",
              "      <td>35.2</td>\n",
              "      <td>21.0</td>\n",
              "      <td>22.386101</td>\n",
              "      <td>59.7</td>\n",
              "      <td>40.1</td>\n",
              "      <td>51.164501</td>\n",
              "      <td>0.392</td>\n",
              "      <td>0.541</td>\n",
              "      <td>0.344984</td>\n",
              "      <td>1</td>\n",
              "    </tr>\n",
              "    <tr>\n",
              "      <th>4</th>\n",
              "      <td>101379</td>\n",
              "      <td>45.338512</td>\n",
              "      <td>6.084037</td>\n",
              "      <td>39.254475</td>\n",
              "      <td>26.262912</td>\n",
              "      <td>8.279864</td>\n",
              "      <td>20.118712</td>\n",
              "      <td>20.578144</td>\n",
              "      <td>16.567818</td>\n",
              "      <td>52.616992</td>\n",
              "      <td>...</td>\n",
              "      <td>36.6</td>\n",
              "      <td>22.6</td>\n",
              "      <td>22.139999</td>\n",
              "      <td>60.6</td>\n",
              "      <td>42.2</td>\n",
              "      <td>45.703899</td>\n",
              "      <td>0.391</td>\n",
              "      <td>0.469</td>\n",
              "      <td>0.458083</td>\n",
              "      <td>1</td>\n",
              "    </tr>\n",
              "    <tr>\n",
              "      <th>...</th>\n",
              "      <td>...</td>\n",
              "      <td>...</td>\n",
              "      <td>...</td>\n",
              "      <td>...</td>\n",
              "      <td>...</td>\n",
              "      <td>...</td>\n",
              "      <td>...</td>\n",
              "      <td>...</td>\n",
              "      <td>...</td>\n",
              "      <td>...</td>\n",
              "      <td>...</td>\n",
              "      <td>...</td>\n",
              "      <td>...</td>\n",
              "      <td>...</td>\n",
              "      <td>...</td>\n",
              "      <td>...</td>\n",
              "      <td>...</td>\n",
              "      <td>...</td>\n",
              "      <td>...</td>\n",
              "      <td>...</td>\n",
              "      <td>...</td>\n",
              "    </tr>\n",
              "    <tr>\n",
              "      <th>2451</th>\n",
              "      <td>21016</td>\n",
              "      <td>74.848837</td>\n",
              "      <td>12.301183</td>\n",
              "      <td>62.547654</td>\n",
              "      <td>19.229856</td>\n",
              "      <td>3.177689</td>\n",
              "      <td>2.743618</td>\n",
              "      <td>27.350040</td>\n",
              "      <td>36.056322</td>\n",
              "      <td>76.550988</td>\n",
              "      <td>...</td>\n",
              "      <td>51.8</td>\n",
              "      <td>54.8</td>\n",
              "      <td>41.368999</td>\n",
              "      <td>73.5</td>\n",
              "      <td>70.9</td>\n",
              "      <td>70.859596</td>\n",
              "      <td>0.403</td>\n",
              "      <td>0.589</td>\n",
              "      <td>0.342037</td>\n",
              "      <td>2</td>\n",
              "    </tr>\n",
              "    <tr>\n",
              "      <th>2452</th>\n",
              "      <td>27385</td>\n",
              "      <td>65.450191</td>\n",
              "      <td>10.203506</td>\n",
              "      <td>55.246687</td>\n",
              "      <td>23.623556</td>\n",
              "      <td>5.007426</td>\n",
              "      <td>5.918827</td>\n",
              "      <td>29.914879</td>\n",
              "      <td>53.313420</td>\n",
              "      <td>74.542926</td>\n",
              "      <td>...</td>\n",
              "      <td>34.2</td>\n",
              "      <td>25.9</td>\n",
              "      <td>20.563601</td>\n",
              "      <td>57.8</td>\n",
              "      <td>44.1</td>\n",
              "      <td>46.659199</td>\n",
              "      <td>0.422</td>\n",
              "      <td>0.463</td>\n",
              "      <td>0.362527</td>\n",
              "      <td>1</td>\n",
              "    </tr>\n",
              "    <tr>\n",
              "      <th>2453</th>\n",
              "      <td>117528</td>\n",
              "      <td>29.541959</td>\n",
              "      <td>3.535624</td>\n",
              "      <td>26.006335</td>\n",
              "      <td>16.644262</td>\n",
              "      <td>8.828019</td>\n",
              "      <td>44.985759</td>\n",
              "      <td>11.936088</td>\n",
              "      <td>18.316528</td>\n",
              "      <td>32.666426</td>\n",
              "      <td>...</td>\n",
              "      <td>15.7</td>\n",
              "      <td>20.7</td>\n",
              "      <td>12.115300</td>\n",
              "      <td>36.6</td>\n",
              "      <td>41.8</td>\n",
              "      <td>32.302700</td>\n",
              "      <td>0.528</td>\n",
              "      <td>0.498</td>\n",
              "      <td>0.436339</td>\n",
              "      <td>1</td>\n",
              "    </tr>\n",
              "    <tr>\n",
              "      <th>2454</th>\n",
              "      <td>20456</td>\n",
              "      <td>78.374962</td>\n",
              "      <td>14.607016</td>\n",
              "      <td>63.767946</td>\n",
              "      <td>13.750759</td>\n",
              "      <td>4.440331</td>\n",
              "      <td>3.433948</td>\n",
              "      <td>26.649950</td>\n",
              "      <td>11.769479</td>\n",
              "      <td>83.235286</td>\n",
              "      <td>...</td>\n",
              "      <td>36.2</td>\n",
              "      <td>36.4</td>\n",
              "      <td>30.037100</td>\n",
              "      <td>60.5</td>\n",
              "      <td>54.7</td>\n",
              "      <td>57.394501</td>\n",
              "      <td>0.380</td>\n",
              "      <td>0.483</td>\n",
              "      <td>0.365307</td>\n",
              "      <td>1</td>\n",
              "    </tr>\n",
              "    <tr>\n",
              "      <th>2455</th>\n",
              "      <td>2772</td>\n",
              "      <td>62.204207</td>\n",
              "      <td>10.102023</td>\n",
              "      <td>52.102184</td>\n",
              "      <td>27.489635</td>\n",
              "      <td>2.308246</td>\n",
              "      <td>7.997912</td>\n",
              "      <td>28.429677</td>\n",
              "      <td>44.800160</td>\n",
              "      <td>76.211864</td>\n",
              "      <td>...</td>\n",
              "      <td>37.6</td>\n",
              "      <td>44.8</td>\n",
              "      <td>26.998899</td>\n",
              "      <td>61.2</td>\n",
              "      <td>63.9</td>\n",
              "      <td>54.116299</td>\n",
              "      <td>0.431</td>\n",
              "      <td>0.500</td>\n",
              "      <td>0.385067</td>\n",
              "      <td>1</td>\n",
              "    </tr>\n",
              "  </tbody>\n",
              "</table>\n",
              "<p>2456 rows × 134 columns</p>\n",
              "</div>\n",
              "    <div class=\"colab-df-buttons\">\n",
              "\n",
              "  <div class=\"colab-df-container\">\n",
              "    <button class=\"colab-df-convert\" onclick=\"convertToInteractive('df-d922e075-7df3-4bb3-81eb-101d01bc050f')\"\n",
              "            title=\"Convert this dataframe to an interactive table.\"\n",
              "            style=\"display:none;\">\n",
              "\n",
              "  <svg xmlns=\"http://www.w3.org/2000/svg\" height=\"24px\" viewBox=\"0 -960 960 960\">\n",
              "    <path d=\"M120-120v-720h720v720H120Zm60-500h600v-160H180v160Zm220 220h160v-160H400v160Zm0 220h160v-160H400v160ZM180-400h160v-160H180v160Zm440 0h160v-160H620v160ZM180-180h160v-160H180v160Zm440 0h160v-160H620v160Z\"/>\n",
              "  </svg>\n",
              "    </button>\n",
              "\n",
              "  <style>\n",
              "    .colab-df-container {\n",
              "      display:flex;\n",
              "      gap: 12px;\n",
              "    }\n",
              "\n",
              "    .colab-df-convert {\n",
              "      background-color: #E8F0FE;\n",
              "      border: none;\n",
              "      border-radius: 50%;\n",
              "      cursor: pointer;\n",
              "      display: none;\n",
              "      fill: #1967D2;\n",
              "      height: 32px;\n",
              "      padding: 0 0 0 0;\n",
              "      width: 32px;\n",
              "    }\n",
              "\n",
              "    .colab-df-convert:hover {\n",
              "      background-color: #E2EBFA;\n",
              "      box-shadow: 0px 1px 2px rgba(60, 64, 67, 0.3), 0px 1px 3px 1px rgba(60, 64, 67, 0.15);\n",
              "      fill: #174EA6;\n",
              "    }\n",
              "\n",
              "    .colab-df-buttons div {\n",
              "      margin-bottom: 4px;\n",
              "    }\n",
              "\n",
              "    [theme=dark] .colab-df-convert {\n",
              "      background-color: #3B4455;\n",
              "      fill: #D2E3FC;\n",
              "    }\n",
              "\n",
              "    [theme=dark] .colab-df-convert:hover {\n",
              "      background-color: #434B5C;\n",
              "      box-shadow: 0px 1px 3px 1px rgba(0, 0, 0, 0.15);\n",
              "      filter: drop-shadow(0px 1px 2px rgba(0, 0, 0, 0.3));\n",
              "      fill: #FFFFFF;\n",
              "    }\n",
              "  </style>\n",
              "\n",
              "    <script>\n",
              "      const buttonEl =\n",
              "        document.querySelector('#df-d922e075-7df3-4bb3-81eb-101d01bc050f button.colab-df-convert');\n",
              "      buttonEl.style.display =\n",
              "        google.colab.kernel.accessAllowed ? 'block' : 'none';\n",
              "\n",
              "      async function convertToInteractive(key) {\n",
              "        const element = document.querySelector('#df-d922e075-7df3-4bb3-81eb-101d01bc050f');\n",
              "        const dataTable =\n",
              "          await google.colab.kernel.invokeFunction('convertToInteractive',\n",
              "                                                    [key], {});\n",
              "        if (!dataTable) return;\n",
              "\n",
              "        const docLinkHtml = 'Like what you see? Visit the ' +\n",
              "          '<a target=\"_blank\" href=https://colab.research.google.com/notebooks/data_table.ipynb>data table notebook</a>'\n",
              "          + ' to learn more about interactive tables.';\n",
              "        element.innerHTML = '';\n",
              "        dataTable['output_type'] = 'display_data';\n",
              "        await google.colab.output.renderOutput(dataTable, element);\n",
              "        const docLink = document.createElement('div');\n",
              "        docLink.innerHTML = docLinkHtml;\n",
              "        element.appendChild(docLink);\n",
              "      }\n",
              "    </script>\n",
              "  </div>\n",
              "\n",
              "\n",
              "<div id=\"df-cdced7fb-6be3-4ab3-ac16-596a5669f7b7\">\n",
              "  <button class=\"colab-df-quickchart\" onclick=\"quickchart('df-cdced7fb-6be3-4ab3-ac16-596a5669f7b7')\"\n",
              "            title=\"Suggest charts.\"\n",
              "            style=\"display:none;\">\n",
              "\n",
              "<svg xmlns=\"http://www.w3.org/2000/svg\" height=\"24px\"viewBox=\"0 0 24 24\"\n",
              "     width=\"24px\">\n",
              "    <g>\n",
              "        <path d=\"M19 3H5c-1.1 0-2 .9-2 2v14c0 1.1.9 2 2 2h14c1.1 0 2-.9 2-2V5c0-1.1-.9-2-2-2zM9 17H7v-7h2v7zm4 0h-2V7h2v10zm4 0h-2v-4h2v4z\"/>\n",
              "    </g>\n",
              "</svg>\n",
              "  </button>\n",
              "\n",
              "<style>\n",
              "  .colab-df-quickchart {\n",
              "      --bg-color: #E8F0FE;\n",
              "      --fill-color: #1967D2;\n",
              "      --hover-bg-color: #E2EBFA;\n",
              "      --hover-fill-color: #174EA6;\n",
              "      --disabled-fill-color: #AAA;\n",
              "      --disabled-bg-color: #DDD;\n",
              "  }\n",
              "\n",
              "  [theme=dark] .colab-df-quickchart {\n",
              "      --bg-color: #3B4455;\n",
              "      --fill-color: #D2E3FC;\n",
              "      --hover-bg-color: #434B5C;\n",
              "      --hover-fill-color: #FFFFFF;\n",
              "      --disabled-bg-color: #3B4455;\n",
              "      --disabled-fill-color: #666;\n",
              "  }\n",
              "\n",
              "  .colab-df-quickchart {\n",
              "    background-color: var(--bg-color);\n",
              "    border: none;\n",
              "    border-radius: 50%;\n",
              "    cursor: pointer;\n",
              "    display: none;\n",
              "    fill: var(--fill-color);\n",
              "    height: 32px;\n",
              "    padding: 0;\n",
              "    width: 32px;\n",
              "  }\n",
              "\n",
              "  .colab-df-quickchart:hover {\n",
              "    background-color: var(--hover-bg-color);\n",
              "    box-shadow: 0 1px 2px rgba(60, 64, 67, 0.3), 0 1px 3px 1px rgba(60, 64, 67, 0.15);\n",
              "    fill: var(--button-hover-fill-color);\n",
              "  }\n",
              "\n",
              "  .colab-df-quickchart-complete:disabled,\n",
              "  .colab-df-quickchart-complete:disabled:hover {\n",
              "    background-color: var(--disabled-bg-color);\n",
              "    fill: var(--disabled-fill-color);\n",
              "    box-shadow: none;\n",
              "  }\n",
              "\n",
              "  .colab-df-spinner {\n",
              "    border: 2px solid var(--fill-color);\n",
              "    border-color: transparent;\n",
              "    border-bottom-color: var(--fill-color);\n",
              "    animation:\n",
              "      spin 1s steps(1) infinite;\n",
              "  }\n",
              "\n",
              "  @keyframes spin {\n",
              "    0% {\n",
              "      border-color: transparent;\n",
              "      border-bottom-color: var(--fill-color);\n",
              "      border-left-color: var(--fill-color);\n",
              "    }\n",
              "    20% {\n",
              "      border-color: transparent;\n",
              "      border-left-color: var(--fill-color);\n",
              "      border-top-color: var(--fill-color);\n",
              "    }\n",
              "    30% {\n",
              "      border-color: transparent;\n",
              "      border-left-color: var(--fill-color);\n",
              "      border-top-color: var(--fill-color);\n",
              "      border-right-color: var(--fill-color);\n",
              "    }\n",
              "    40% {\n",
              "      border-color: transparent;\n",
              "      border-right-color: var(--fill-color);\n",
              "      border-top-color: var(--fill-color);\n",
              "    }\n",
              "    60% {\n",
              "      border-color: transparent;\n",
              "      border-right-color: var(--fill-color);\n",
              "    }\n",
              "    80% {\n",
              "      border-color: transparent;\n",
              "      border-right-color: var(--fill-color);\n",
              "      border-bottom-color: var(--fill-color);\n",
              "    }\n",
              "    90% {\n",
              "      border-color: transparent;\n",
              "      border-bottom-color: var(--fill-color);\n",
              "    }\n",
              "  }\n",
              "</style>\n",
              "\n",
              "  <script>\n",
              "    async function quickchart(key) {\n",
              "      const quickchartButtonEl =\n",
              "        document.querySelector('#' + key + ' button');\n",
              "      quickchartButtonEl.disabled = true;  // To prevent multiple clicks.\n",
              "      quickchartButtonEl.classList.add('colab-df-spinner');\n",
              "      try {\n",
              "        const charts = await google.colab.kernel.invokeFunction(\n",
              "            'suggestCharts', [key], {});\n",
              "      } catch (error) {\n",
              "        console.error('Error during call to suggestCharts:', error);\n",
              "      }\n",
              "      quickchartButtonEl.classList.remove('colab-df-spinner');\n",
              "      quickchartButtonEl.classList.add('colab-df-quickchart-complete');\n",
              "    }\n",
              "    (() => {\n",
              "      let quickchartButtonEl =\n",
              "        document.querySelector('#df-cdced7fb-6be3-4ab3-ac16-596a5669f7b7 button');\n",
              "      quickchartButtonEl.style.display =\n",
              "        google.colab.kernel.accessAllowed ? 'block' : 'none';\n",
              "    })();\n",
              "  </script>\n",
              "</div>\n",
              "    </div>\n",
              "  </div>\n"
            ]
          },
          "metadata": {},
          "execution_count": 166
        }
      ]
    },
    {
      "cell_type": "markdown",
      "source": [
        "#KNN without libraries"
      ],
      "metadata": {
        "id": "ag17vG6Cb7tD"
      }
    },
    {
      "cell_type": "code",
      "source": [
        "#this is to set a specific seed for reproducibility\n",
        "np.random.seed(0)\n",
        "\n",
        "#shuffle the data\n",
        "df = df.sample(frac=1)\n",
        "\n",
        "#divide the dataset in 80% for training and 20% for testing\n",
        "train_size = int(0.8 * len(df))\n",
        "train_set = df[:train_size]\n",
        "test_set = df[train_size:]\n",
        "\n",
        "#declare the labels and features\n",
        "X_train = train_set.iloc[:, :-1].values\n",
        "y_train = train_set.iloc[:, -1].values\n",
        "X_test = test_set.iloc[:, :-1].values\n",
        "y_test = test_set.iloc[:, -1].values\n",
        "\n",
        "#obtain mean and standard deviation\n",
        "mean = np.mean(X_train, axis=0)\n",
        "std = np.std(X_train, axis=0)\n",
        "\n",
        "#normalize the data\n",
        "X_train = (X_train - mean) / std\n",
        "X_test = (X_test - mean) / std"
      ],
      "metadata": {
        "id": "AqCocIZPIsWR"
      },
      "execution_count": 167,
      "outputs": []
    },
    {
      "cell_type": "code",
      "source": [
        "#define the knn algorithm\n",
        "def knn(X_train, y_train, X_test, k):\n",
        "    y_pred = []\n",
        "    for test_point in X_test:\n",
        "        distances = np.sqrt(np.sum((X_train - test_point)**2, axis=1))\n",
        "        k_indices = np.argsort(distances)[:k]\n",
        "        k_nearest_labels = y_train[k_indices]\n",
        "        pred = np.bincount(k_nearest_labels).argmax()\n",
        "        y_pred.append(pred)\n",
        "    return np.array(y_pred)"
      ],
      "metadata": {
        "id": "CdgNoSrWYgT6"
      },
      "execution_count": 168,
      "outputs": []
    },
    {
      "cell_type": "code",
      "source": [
        "#stablish the number of k neighbors\n",
        "k = 25\n",
        "\n",
        "#prediction to call the knn function\n",
        "y_pred = knn(X_train, y_train, X_test, k)\n",
        "\n",
        "#check the accuracy\n",
        "accuracy = np.sum(y_pred == y_test) / len(y_test)\n",
        "print(f\"Accuracy: {accuracy * 100:.2f}%\")"
      ],
      "metadata": {
        "id": "PQ9WJK80YjOk",
        "colab": {
          "base_uri": "https://localhost:8080/"
        },
        "outputId": "3937beab-53a8-4174-f9bd-cdcef9687673"
      },
      "execution_count": 169,
      "outputs": [
        {
          "output_type": "stream",
          "name": "stdout",
          "text": [
            "Accuracy: 83.13%\n"
          ]
        }
      ]
    },
    {
      "cell_type": "code",
      "source": [
        "#select 5 random samples from the testing set\n",
        "random_samples = np.random.randint(0, len(y_test), 5)\n",
        "\n",
        "#get the predictions and actual labels\n",
        "predictions = y_pred[random_samples]\n",
        "real_labels = y_test[random_samples]\n",
        "\n",
        "#print results\n",
        "for i in range(5):\n",
        "    print(f\"Sample {i+1}:\")\n",
        "    print(f\"    Prediction: {predictions[i]}\")\n",
        "    print(f\"    Actual label: {real_labels[i]}\")"
      ],
      "metadata": {
        "colab": {
          "base_uri": "https://localhost:8080/"
        },
        "id": "QeJLqqbleyKU",
        "outputId": "adca2ca5-4ca1-4eb9-a317-c8072b0ad2f3"
      },
      "execution_count": 170,
      "outputs": [
        {
          "output_type": "stream",
          "name": "stdout",
          "text": [
            "Sample 1:\n",
            "    Prediction: 1\n",
            "    Actual label: 1\n",
            "Sample 2:\n",
            "    Prediction: 1\n",
            "    Actual label: 1\n",
            "Sample 3:\n",
            "    Prediction: 4\n",
            "    Actual label: 4\n",
            "Sample 4:\n",
            "    Prediction: 1\n",
            "    Actual label: 1\n",
            "Sample 5:\n",
            "    Prediction: 2\n",
            "    Actual label: 2\n"
          ]
        }
      ]
    },
    {
      "cell_type": "markdown",
      "source": [
        "#KNN with libraries"
      ],
      "metadata": {
        "id": "UKguDKHacARt"
      }
    },
    {
      "cell_type": "code",
      "source": [
        "!pip install numpy scikit-learn"
      ],
      "metadata": {
        "colab": {
          "base_uri": "https://localhost:8080/"
        },
        "id": "ddBm5bI0b_9l",
        "outputId": "2338c893-6acd-46a1-804b-2c1386f92e3f"
      },
      "execution_count": 171,
      "outputs": [
        {
          "output_type": "stream",
          "name": "stdout",
          "text": [
            "Requirement already satisfied: numpy in /usr/local/lib/python3.10/dist-packages (1.23.5)\n",
            "Requirement already satisfied: scikit-learn in /usr/local/lib/python3.10/dist-packages (1.2.2)\n",
            "Requirement already satisfied: scipy>=1.3.2 in /usr/local/lib/python3.10/dist-packages (from scikit-learn) (1.11.3)\n",
            "Requirement already satisfied: joblib>=1.1.1 in /usr/local/lib/python3.10/dist-packages (from scikit-learn) (1.3.2)\n",
            "Requirement already satisfied: threadpoolctl>=2.0.0 in /usr/local/lib/python3.10/dist-packages (from scikit-learn) (3.2.0)\n"
          ]
        }
      ]
    },
    {
      "cell_type": "code",
      "source": [
        "from sklearn.model_selection import train_test_split\n",
        "from sklearn.preprocessing import StandardScaler\n",
        "from sklearn.metrics import accuracy_score\n",
        "from sklearn.neighbors import KNeighborsClassifier"
      ],
      "metadata": {
        "id": "l0Pxey3OcO6f"
      },
      "execution_count": 172,
      "outputs": []
    },
    {
      "cell_type": "code",
      "source": [
        "#define features and labels\n",
        "X = df.iloc[:, :-1].values\n",
        "y = df.iloc[:, -1].values\n",
        "\n",
        "#divide the dataset in 80% for training and 20% for testing\n",
        "X_train, X_test, y_train, y_test = train_test_split(X, y, test_size=0.2, random_state=20)\n",
        "\n",
        "#standardize the features of the datasets to get a mean of 0 and a variance of 1\n",
        "scaler = StandardScaler()\n",
        "X_train = scaler.fit_transform(X_train)\n",
        "X_test = scaler.transform(X_test)"
      ],
      "metadata": {
        "id": "iFC6yGdRcQ1F"
      },
      "execution_count": 173,
      "outputs": []
    },
    {
      "cell_type": "code",
      "source": [
        "k = 25  #stablish the number of k neighbors\n",
        "model = KNeighborsClassifier(n_neighbors=k)\n",
        "model.fit(X_train, y_train)\n",
        "\n",
        "#make predictions\n",
        "y_pred = model.predict(X_test)"
      ],
      "metadata": {
        "id": "pQ890RffcVgV"
      },
      "execution_count": 174,
      "outputs": []
    },
    {
      "cell_type": "code",
      "source": [
        "accuracy = accuracy_score(y_test, y_pred)\n",
        "print(f\"Accuracy: {accuracy * 100:.2f}%\")"
      ],
      "metadata": {
        "colab": {
          "base_uri": "https://localhost:8080/"
        },
        "id": "rrDfaRNWcYgj",
        "outputId": "a9d248eb-d059-4d1a-a10e-6dbd2e43a76c"
      },
      "execution_count": 175,
      "outputs": [
        {
          "output_type": "stream",
          "name": "stdout",
          "text": [
            "Accuracy: 82.52%\n"
          ]
        }
      ]
    },
    {
      "cell_type": "code",
      "source": [
        "#select 5 random samples from the testing set\n",
        "random_samples = np.random.randint(0, len(y_test), 5)\n",
        "\n",
        "#get the predictions and actual labels\n",
        "predictions = y_pred[random_samples]\n",
        "real_labels = y_test[random_samples]\n",
        "\n",
        "#print results\n",
        "for i in range(5):\n",
        "    print(f\"Sample {i+1}:\")\n",
        "    print(f\"    Prediction: {predictions[i]}\")\n",
        "    print(f\"    Actual label: {real_labels[i]}\")"
      ],
      "metadata": {
        "colab": {
          "base_uri": "https://localhost:8080/"
        },
        "id": "ZdQVbn4Be8EL",
        "outputId": "9e5e2a74-e0c9-4531-c915-ea1bb01a2e6d"
      },
      "execution_count": 176,
      "outputs": [
        {
          "output_type": "stream",
          "name": "stdout",
          "text": [
            "Sample 1:\n",
            "    Prediction: 1\n",
            "    Actual label: 1\n",
            "Sample 2:\n",
            "    Prediction: 4\n",
            "    Actual label: 4\n",
            "Sample 3:\n",
            "    Prediction: 3\n",
            "    Actual label: 3\n",
            "Sample 4:\n",
            "    Prediction: 1\n",
            "    Actual label: 1\n",
            "Sample 5:\n",
            "    Prediction: 1\n",
            "    Actual label: 1\n"
          ]
        }
      ]
    },
    {
      "cell_type": "markdown",
      "source": [
        "#Perceptron without libraries"
      ],
      "metadata": {
        "id": "D34mbJoDjj3-"
      }
    },
    {
      "cell_type": "code",
      "source": [
        "#this is to set a specific seed for reproducibility\n",
        "np.random.seed(1)\n",
        "\n",
        "#shuffle the data\n",
        "df = df.sample(frac=1)\n",
        "\n",
        "#divide the dataset: 80% for training and 20% for testing\n",
        "train_size = int(0.8 * len(df))\n",
        "test_set = df.iloc[train_size:]\n",
        "train_set = df.iloc[:train_size]\n",
        "\n",
        "X_train = train_set.iloc[:, :-1].values\n",
        "y_train = train_set.iloc[:, -1].values\n",
        "X_test = test_set.iloc[:, :-1].values\n",
        "y_test = test_set.iloc[:, -1].values\n",
        "\n",
        "#convert the labels to binary where the output is 1 if the class is 1 and 0 otherwise\n",
        "y_binary = np.where(y_train == 1, 1, 0)\n",
        "y_train_binary = y_binary\n",
        "y_test_binary = np.where(y_test == 1, 1, 0)\n",
        "\n",
        "#normalize the training data\n",
        "mean = np.mean(X_train, axis=0)\n",
        "std = np.std(X_train, axis=0)\n",
        "X_train = (X_train - mean) / std\n",
        "\n",
        "#normalize the testing data\n",
        "X_test = (X_test - mean) / std\n"
      ],
      "metadata": {
        "id": "H21UK8mK7os4"
      },
      "execution_count": 177,
      "outputs": []
    },
    {
      "cell_type": "code",
      "source": [
        "#define the activation function\n",
        "def activation(x):\n",
        "    return np.where(x >= 0, 1, 0)\n"
      ],
      "metadata": {
        "id": "LX1Mi6j37oqP"
      },
      "execution_count": 178,
      "outputs": []
    },
    {
      "cell_type": "code",
      "source": [
        "#create the perceptron algorithm\n",
        "def perceptron(X, y, learning_rate, epochs):\n",
        "    weights = np.random.randn(X.shape[1]) * 0.01\n",
        "    bias = 0\n",
        "\n",
        "    for _ in range(epochs):\n",
        "        for i in range(X.shape[0]):\n",
        "            linear_output = np.dot(X[i], weights) + bias\n",
        "            y_pred = activation(linear_output)\n",
        "            update = learning_rate * (y[i] - y_pred)\n",
        "            weights += update * X[i]\n",
        "            bias += update\n",
        "\n",
        "    return weights, bias\n"
      ],
      "metadata": {
        "id": "PbaeS9u97on5"
      },
      "execution_count": 179,
      "outputs": []
    },
    {
      "cell_type": "code",
      "source": [
        "#define the parameters\n",
        "learning_rate = 0.1\n",
        "epochs = 1000\n",
        "\n",
        "weights, bias = perceptron(X_train, y_train_binary, learning_rate, epochs)\n"
      ],
      "metadata": {
        "id": "_0wQzLo87olT"
      },
      "execution_count": 180,
      "outputs": []
    },
    {
      "cell_type": "code",
      "source": [
        "#make predictions\n",
        "linear_output_test = np.dot(X_test, weights) + bias\n",
        "y_pred_test = activation(linear_output_test)\n",
        "\n",
        "#calculate accuracy of the model\n",
        "accuracy_test = np.sum(y_pred_test == y_test_binary) / len(y_test_binary)\n",
        "print(f\"Accuracy: {accuracy_test * 100:.2f}%\")\n"
      ],
      "metadata": {
        "colab": {
          "base_uri": "https://localhost:8080/"
        },
        "id": "gE4yOm3j7oi2",
        "outputId": "a8b9ce37-38e8-499b-d538-1edace7e73a8"
      },
      "execution_count": 181,
      "outputs": [
        {
          "output_type": "stream",
          "name": "stdout",
          "text": [
            "Accuracy: 98.58%\n"
          ]
        }
      ]
    },
    {
      "cell_type": "code",
      "source": [
        "#select 5 random samples from the testing set\n",
        "random_samples = np.random.randint(0, len(y_test), 5)\n",
        "\n",
        "#get the predictions and actual labels\n",
        "predictions = y_pred_test[random_samples]\n",
        "real_labels = y_test_binary[random_samples]\n",
        "\n",
        "#print results\n",
        "for i in range(5):\n",
        "    print(f\"Sample {i+1}:\")\n",
        "    print(f\"   Prediction: {predictions[i]}\")\n",
        "    print(f\"   Actual label: {real_labels[i]}\")\n"
      ],
      "metadata": {
        "colab": {
          "base_uri": "https://localhost:8080/"
        },
        "id": "gSxFqHZL7ogd",
        "outputId": "8bf59965-a93c-4f44-8fe4-1621f75e7b6f"
      },
      "execution_count": 182,
      "outputs": [
        {
          "output_type": "stream",
          "name": "stdout",
          "text": [
            "Sample 1:\n",
            "   Prediction: 1\n",
            "   Actual label: 1\n",
            "Sample 2:\n",
            "   Prediction: 0\n",
            "   Actual label: 0\n",
            "Sample 3:\n",
            "   Prediction: 1\n",
            "   Actual label: 1\n",
            "Sample 4:\n",
            "   Prediction: 0\n",
            "   Actual label: 0\n",
            "Sample 5:\n",
            "   Prediction: 1\n",
            "   Actual label: 1\n"
          ]
        }
      ]
    },
    {
      "cell_type": "markdown",
      "source": [
        "#Perceptron with libraries"
      ],
      "metadata": {
        "id": "N-HRwu0sjf82"
      }
    },
    {
      "cell_type": "code",
      "source": [
        "#import the library\n",
        "from sklearn.linear_model import Perceptron"
      ],
      "metadata": {
        "id": "ojijY66a-sck"
      },
      "execution_count": 183,
      "outputs": []
    },
    {
      "cell_type": "code",
      "source": [
        "#obtain the features and labels from the dataset\n",
        "X = df.iloc[:, :-1].values\n",
        "y = df.iloc[:, -1].values\n",
        "\n",
        "#convert labels to binary: 1 for class \"1\" and 0 for any other class\n",
        "y_binary = np.where(y == 1, 1, 0)\n"
      ],
      "metadata": {
        "id": "km9wO0ho-saQ"
      },
      "execution_count": 184,
      "outputs": []
    },
    {
      "cell_type": "code",
      "source": [
        "#split the data into training and test sets\n",
        "X_train, X_test, y_train, y_test = train_test_split(X, y_binary, test_size=0.2, random_state=42)\n",
        "\n",
        "#normalize the data\n",
        "scaler = StandardScaler()\n",
        "X_train = scaler.fit_transform(X_train)\n",
        "X_test = scaler.transform(X_test)\n"
      ],
      "metadata": {
        "id": "Rp5AT6DZ-sXj"
      },
      "execution_count": 185,
      "outputs": []
    },
    {
      "cell_type": "code",
      "source": [
        "#train the model\n",
        "model = Perceptron(max_iter=1000, eta0=0.1, random_state=42)\n",
        "model.fit(X_train, y_train)\n"
      ],
      "metadata": {
        "colab": {
          "base_uri": "https://localhost:8080/",
          "height": 74
        },
        "id": "r84Lskdy-sVC",
        "outputId": "866285f0-62dc-4fcc-9376-ffb5fc0e155d"
      },
      "execution_count": 186,
      "outputs": [
        {
          "output_type": "execute_result",
          "data": {
            "text/plain": [
              "Perceptron(eta0=0.1, random_state=42)"
            ],
            "text/html": [
              "<style>#sk-container-id-12 {color: black;background-color: white;}#sk-container-id-12 pre{padding: 0;}#sk-container-id-12 div.sk-toggleable {background-color: white;}#sk-container-id-12 label.sk-toggleable__label {cursor: pointer;display: block;width: 100%;margin-bottom: 0;padding: 0.3em;box-sizing: border-box;text-align: center;}#sk-container-id-12 label.sk-toggleable__label-arrow:before {content: \"▸\";float: left;margin-right: 0.25em;color: #696969;}#sk-container-id-12 label.sk-toggleable__label-arrow:hover:before {color: black;}#sk-container-id-12 div.sk-estimator:hover label.sk-toggleable__label-arrow:before {color: black;}#sk-container-id-12 div.sk-toggleable__content {max-height: 0;max-width: 0;overflow: hidden;text-align: left;background-color: #f0f8ff;}#sk-container-id-12 div.sk-toggleable__content pre {margin: 0.2em;color: black;border-radius: 0.25em;background-color: #f0f8ff;}#sk-container-id-12 input.sk-toggleable__control:checked~div.sk-toggleable__content {max-height: 200px;max-width: 100%;overflow: auto;}#sk-container-id-12 input.sk-toggleable__control:checked~label.sk-toggleable__label-arrow:before {content: \"▾\";}#sk-container-id-12 div.sk-estimator input.sk-toggleable__control:checked~label.sk-toggleable__label {background-color: #d4ebff;}#sk-container-id-12 div.sk-label input.sk-toggleable__control:checked~label.sk-toggleable__label {background-color: #d4ebff;}#sk-container-id-12 input.sk-hidden--visually {border: 0;clip: rect(1px 1px 1px 1px);clip: rect(1px, 1px, 1px, 1px);height: 1px;margin: -1px;overflow: hidden;padding: 0;position: absolute;width: 1px;}#sk-container-id-12 div.sk-estimator {font-family: monospace;background-color: #f0f8ff;border: 1px dotted black;border-radius: 0.25em;box-sizing: border-box;margin-bottom: 0.5em;}#sk-container-id-12 div.sk-estimator:hover {background-color: #d4ebff;}#sk-container-id-12 div.sk-parallel-item::after {content: \"\";width: 100%;border-bottom: 1px solid gray;flex-grow: 1;}#sk-container-id-12 div.sk-label:hover label.sk-toggleable__label {background-color: #d4ebff;}#sk-container-id-12 div.sk-serial::before {content: \"\";position: absolute;border-left: 1px solid gray;box-sizing: border-box;top: 0;bottom: 0;left: 50%;z-index: 0;}#sk-container-id-12 div.sk-serial {display: flex;flex-direction: column;align-items: center;background-color: white;padding-right: 0.2em;padding-left: 0.2em;position: relative;}#sk-container-id-12 div.sk-item {position: relative;z-index: 1;}#sk-container-id-12 div.sk-parallel {display: flex;align-items: stretch;justify-content: center;background-color: white;position: relative;}#sk-container-id-12 div.sk-item::before, #sk-container-id-12 div.sk-parallel-item::before {content: \"\";position: absolute;border-left: 1px solid gray;box-sizing: border-box;top: 0;bottom: 0;left: 50%;z-index: -1;}#sk-container-id-12 div.sk-parallel-item {display: flex;flex-direction: column;z-index: 1;position: relative;background-color: white;}#sk-container-id-12 div.sk-parallel-item:first-child::after {align-self: flex-end;width: 50%;}#sk-container-id-12 div.sk-parallel-item:last-child::after {align-self: flex-start;width: 50%;}#sk-container-id-12 div.sk-parallel-item:only-child::after {width: 0;}#sk-container-id-12 div.sk-dashed-wrapped {border: 1px dashed gray;margin: 0 0.4em 0.5em 0.4em;box-sizing: border-box;padding-bottom: 0.4em;background-color: white;}#sk-container-id-12 div.sk-label label {font-family: monospace;font-weight: bold;display: inline-block;line-height: 1.2em;}#sk-container-id-12 div.sk-label-container {text-align: center;}#sk-container-id-12 div.sk-container {/* jupyter's `normalize.less` sets `[hidden] { display: none; }` but bootstrap.min.css set `[hidden] { display: none !important; }` so we also need the `!important` here to be able to override the default hidden behavior on the sphinx rendered scikit-learn.org. See: https://github.com/scikit-learn/scikit-learn/issues/21755 */display: inline-block !important;position: relative;}#sk-container-id-12 div.sk-text-repr-fallback {display: none;}</style><div id=\"sk-container-id-12\" class=\"sk-top-container\"><div class=\"sk-text-repr-fallback\"><pre>Perceptron(eta0=0.1, random_state=42)</pre><b>In a Jupyter environment, please rerun this cell to show the HTML representation or trust the notebook. <br />On GitHub, the HTML representation is unable to render, please try loading this page with nbviewer.org.</b></div><div class=\"sk-container\" hidden><div class=\"sk-item\"><div class=\"sk-estimator sk-toggleable\"><input class=\"sk-toggleable__control sk-hidden--visually\" id=\"sk-estimator-id-12\" type=\"checkbox\" checked><label for=\"sk-estimator-id-12\" class=\"sk-toggleable__label sk-toggleable__label-arrow\">Perceptron</label><div class=\"sk-toggleable__content\"><pre>Perceptron(eta0=0.1, random_state=42)</pre></div></div></div></div></div>"
            ]
          },
          "metadata": {},
          "execution_count": 186
        }
      ]
    },
    {
      "cell_type": "code",
      "source": [
        "# Make predictions\n",
        "y_pred = model.predict(X_test)\n",
        "\n",
        "#calculate accuracy of the model\n",
        "accuracy_test = np.sum(y_pred == y_test) / len(y_test)\n",
        "print(f\"Accuracy: {accuracy_test * 100:.2f}%\")\n"
      ],
      "metadata": {
        "colab": {
          "base_uri": "https://localhost:8080/"
        },
        "id": "LLsobXLG-sSo",
        "outputId": "6cb5d449-a5ee-47ca-d614-a9b71f7dd8d6"
      },
      "execution_count": 187,
      "outputs": [
        {
          "output_type": "stream",
          "name": "stdout",
          "text": [
            "Accuracy: 97.76%\n"
          ]
        }
      ]
    },
    {
      "cell_type": "code",
      "source": [
        "#select 5 random samples from the testing set\n",
        "random_samples = np.random.randint(0, len(y_test), 5)\n",
        "\n",
        "#get the predictions and actual labels\n",
        "predictions = y_pred[random_samples]\n",
        "real_labels = y_test[random_samples]\n",
        "\n",
        "#print results\n",
        "for i in range(5):\n",
        "    print(f\"Sample {i+1}:\")\n",
        "    print(f\"   Prediction: {predictions[i]}\")\n",
        "    print(f\"   Actual label: {real_labels[i]}\")\n"
      ],
      "metadata": {
        "colab": {
          "base_uri": "https://localhost:8080/"
        },
        "id": "cQuW19N8-sP7",
        "outputId": "b123f20d-3539-4d24-c9ee-17b2df455764"
      },
      "execution_count": 188,
      "outputs": [
        {
          "output_type": "stream",
          "name": "stdout",
          "text": [
            "Sample 1:\n",
            "   Prediction: 1\n",
            "   Actual label: 1\n",
            "Sample 2:\n",
            "   Prediction: 1\n",
            "   Actual label: 1\n",
            "Sample 3:\n",
            "   Prediction: 0\n",
            "   Actual label: 0\n",
            "Sample 4:\n",
            "   Prediction: 0\n",
            "   Actual label: 0\n",
            "Sample 5:\n",
            "   Prediction: 0\n",
            "   Actual label: 0\n"
          ]
        }
      ]
    }
  ]
}